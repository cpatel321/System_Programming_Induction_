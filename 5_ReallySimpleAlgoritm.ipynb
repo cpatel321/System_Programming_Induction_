{
 "cells": [
  {
   "cell_type": "markdown",
   "metadata": {},
   "source": [
    "Encrypted Message: 6448485280296 4683776938738 9577089513307 6888093682969 9019339071410 246189401736 5139025648676 9409769051528 780685933709 1471462085731 4683776938738 780685933709 6888093682969 6478775835003 780685933709 6062412063462 6243860990272 353906583386 780685933709 9577089513307 688247530411 2362286149030\n",
    "\n",
    "To Public: {129834683,10529980290229}"
   ]
  },
  {
   "cell_type": "markdown",
   "metadata": {},
   "source": [
    " After trying everything counting from simple hex to encoding and decoding, I found that the given string is not encoded.\n",
    " Then I went on to randmly try given keys and cipher text in online tools, I found that this is neither. \n",
    " Then I went on to read articles on https://ctftime.org/ and found that this is RSA encryption.\n",
    "\n"
   ]
  },
  {
   "cell_type": "code",
   "execution_count": 21,
   "metadata": {},
   "outputs": [
    {
     "name": "stdout",
     "output_type": "stream",
     "text": [
      "Flag is : CTF{d3cipher_m3_if_y0u_can}\n"
     ]
    }
   ],
   "source": [
    "# Importing the libraries\n",
    "from Crypto.Util.number import long_to_bytes\n",
    "# Putting given variable in python variables\n",
    "e=129834683\n",
    "N=10529980290229 \n",
    "# N is product of two prime numbers p*q\n",
    "\n",
    "# importing primefac to do factorisation \n",
    "import primefac # can be installed by pip install \"git+git://github.com/elliptic-shiho/primefac-fork\"\n",
    "facs=primefac.factorint(N)\n",
    "# printing factors gives a dict :{mpz(1775867): 1, mpz(5929487): 1}\n",
    "p,q=list(facs.keys())[0],list(facs.keys())[1] # p=1775867,  q=5929487\n",
    "phi= (p-1)*(q-1)            # phi=(p-1)*(q-1)\n",
    "d= pow(e,-1,phi)            # d= decrypt key = e^-1 mod phi\n",
    "\n",
    "\n",
    "# loading cipher text\n",
    "Cipher=list(map(int,\"6448485280296 4683776938738 9577089513307 6888093682969 9019339071410 246189401736 5139025648676 9409769051528 780685933709 1471462085731 4683776938738 780685933709 6888093682969 6478775835003 780685933709 6062412063462 6243860990272 353906583386 780685933709 9577089513307 688247530411 2362286149030\".split()))\n",
    "# decrypting the cipher\n",
    "Plain=[pow(c,d,N) for c in Cipher] # Message=cipher^d mod N\n",
    "# converting to ascii\n",
    "Plain=[long_to_bytes(p) for p in Plain]\n",
    "# joining the ascii\n",
    "Plain=\"\".join([p.decode() for p in Plain])\n",
    "# printing the flag\n",
    "print(f\"Flag is : CTF{{{Plain}}}\")\n"
   ]
  },
  {
   "cell_type": "code",
   "execution_count": null,
   "metadata": {},
   "outputs": [],
   "source": []
  }
 ],
 "metadata": {
  "kernelspec": {
   "display_name": "Python 3",
   "language": "python",
   "name": "python3"
  },
  "language_info": {
   "codemirror_mode": {
    "name": "ipython",
    "version": 3
   },
   "file_extension": ".py",
   "mimetype": "text/x-python",
   "name": "python",
   "nbconvert_exporter": "python",
   "pygments_lexer": "ipython3",
   "version": "3.11.2"
  },
  "orig_nbformat": 4
 },
 "nbformat": 4,
 "nbformat_minor": 2
}
